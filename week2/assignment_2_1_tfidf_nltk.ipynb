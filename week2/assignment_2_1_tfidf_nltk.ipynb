{
 "cells": [
  {
   "cell_type": "markdown",
   "id": "1b90bcd8",
   "metadata": {},
   "source": [
    "# Assignment 2.1: Text Vectorization Implementation\n",
    "Manual TF-IDF computation and comparison with scikit-learn's CountVectorizer and TfidfVectorizer using NLTK's word_tokenize."
   ]
  },
  {
   "cell_type": "code",
   "execution_count": null,
   "id": "9c5b9e49",
   "metadata": {},
   "outputs": [],
   "source": [
    "import math\n",
    "from sklearn.feature_extraction.text import CountVectorizer, TfidfVectorizer\n",
    "import pandas as pd\n",
    "import nltk\n",
    "from nltk.tokenize import word_tokenize\n",
    "nltk.download('punkt')\n",
    "\n",
    "corpus = [\n",
    "    'the sun is a star',\n",
    "    'the moon is a satellite',\n",
    "    'the sun and moon are celestial bodies'\n",
    "]"
   ]
  },
  {
   "cell_type": "markdown",
   "id": "cde23bc5",
   "metadata": {},
   "source": [
    "## Step 1: Tokenization using NLTK"
   ]
  },
  {
   "cell_type": "code",
   "execution_count": null,
   "id": "a9329173",
   "metadata": {},
   "outputs": [],
   "source": [
    "def tokenize(doc):\n",
    "    return word_tokenize(doc.lower())\n",
    "\n",
    "tokenized_corpus = [tokenize(doc) for doc in corpus]\n",
    "tokenized_corpus"
   ]
  },
  {
   "cell_type": "markdown",
   "id": "ad79ea30",
   "metadata": {},
   "source": [
    "## Step 2: Compute Term Frequency (TF)"
   ]
  },
  {
   "cell_type": "code",
   "execution_count": null,
   "id": "f62952d2",
   "metadata": {},
   "outputs": [],
   "source": [
    "def compute_tf(doc_tokens):\n",
    "    tf_dict = {}\n",
    "    total_terms = len(doc_tokens)\n",
    "    for word in doc_tokens:\n",
    "        tf_dict[word] = tf_dict.get(word, 0) + 1\n",
    "    for word in tf_dict:\n",
    "        tf_dict[word] /= total_terms\n",
    "    return tf_dict\n",
    "\n",
    "tf_corpus = [compute_tf(doc) for doc in tokenized_corpus]\n",
    "tf_corpus"
   ]
  },
  {
   "cell_type": "markdown",
   "id": "e337dda8",
   "metadata": {},
   "source": [
    "## Step 3: Compute Inverse Document Frequency (IDF)"
   ]
  },
  {
   "cell_type": "code",
   "execution_count": null,
   "id": "8e754fc1",
   "metadata": {},
   "outputs": [],
   "source": [
    "def compute_idf(tokenized_corpus):\n",
    "    N = len(tokenized_corpus)\n",
    "    idf_dict = {}\n",
    "    all_words = set(word for doc in tokenized_corpus for word in doc)\n",
    "    for word in all_words:\n",
    "        doc_count = sum(word in doc for doc in tokenized_corpus)\n",
    "        idf_dict[word] = math.log(N / (1 + doc_count)) + 1  # Smoothing\n",
    "    return idf_dict\n",
    "\n",
    "idf_dict = compute_idf(tokenized_corpus)\n",
    "idf_dict"
   ]
  },
  {
   "cell_type": "markdown",
   "id": "811d92b9",
   "metadata": {},
   "source": [
    "## Step 4: Compute Manual TF-IDF"
   ]
  },
  {
   "cell_type": "code",
   "execution_count": null,
   "id": "c03d4dd2",
   "metadata": {},
   "outputs": [],
   "source": [
    "def compute_tfidf(tf, idf):\n",
    "    tfidf = {}\n",
    "    for word, val in tf.items():\n",
    "        tfidf[word] = val * idf[word]\n",
    "    return tfidf\n",
    "\n",
    "manual_tfidf = [compute_tfidf(tf_doc, idf_dict) for tf_doc in tf_corpus]\n",
    "manual_tfidf"
   ]
  },
  {
   "cell_type": "markdown",
   "id": "38f098a5",
   "metadata": {},
   "source": [
    "## Step 5: scikit-learn Vectorizers"
   ]
  },
  {
   "cell_type": "code",
   "execution_count": null,
   "id": "c6b219be",
   "metadata": {},
   "outputs": [],
   "source": [
    "count_vectorizer = CountVectorizer()\n",
    "count_matrix = count_vectorizer.fit_transform(corpus)\n",
    "count_feature_names = count_vectorizer.get_feature_names_out()\n",
    "count_result = count_matrix.toarray()\n",
    "\n",
    "tfidf_vectorizer = TfidfVectorizer()\n",
    "tfidf_matrix = tfidf_vectorizer.fit_transform(corpus)\n",
    "tfidf_feature_names = tfidf_vectorizer.get_feature_names_out()\n",
    "tfidf_result = tfidf_matrix.toarray()"
   ]
  },
  {
   "cell_type": "markdown",
   "id": "47cd4cf9",
   "metadata": {},
   "source": [
    "## Step 6: Display Results in DataFrames"
   ]
  },
  {
   "cell_type": "code",
   "execution_count": null,
   "id": "158a2367",
   "metadata": {},
   "outputs": [],
   "source": [
    "# Manual TF-IDF\n",
    "all_words = sorted(set(word for tfidf_doc in manual_tfidf for word in tfidf_doc))\n",
    "manual_df = pd.DataFrame([{word: doc.get(word, 0.0) for word in all_words} for doc in manual_tfidf])\n",
    "\n",
    "# CountVectorizer\n",
    "count_df = pd.DataFrame(count_result, columns=count_feature_names)\n",
    "\n",
    "# TfidfVectorizer\n",
    "tfidf_df = pd.DataFrame(tfidf_result, columns=tfidf_feature_names)\n",
    "\n",
    "print(\"Manual TF-IDF:\\n\", manual_df.round(3), \"\\n\")\n",
    "print(\"CountVectorizer:\\n\", count_df, \"\\n\")\n",
    "print(\"TfidfVectorizer:\\n\", tfidf_df.round(3), \"\\n\")"
   ]
  }
 ],
 "metadata": {},
 "nbformat": 4,
 "nbformat_minor": 5
}
